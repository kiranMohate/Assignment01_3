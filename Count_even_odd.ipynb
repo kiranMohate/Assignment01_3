{
 "cells": [
  {
   "cell_type": "code",
   "execution_count": 1,
   "id": "072c0b49",
   "metadata": {},
   "outputs": [
    {
     "name": "stdout",
     "output_type": "stream",
     "text": [
      "Number of even numbers : 4\n",
      "Number of odd numbers : 5\n"
     ]
    }
   ],
   "source": [
    "numbers = (1, 2, 3, 4, 5, 6, 7, 8, 9)\n",
    "even=0\n",
    "odd=0\n",
    "for no in numbers:\n",
    "    if no%2==0:\n",
    "        even+=1\n",
    "    else:\n",
    "        odd+=1\n",
    "print(\"Number of even numbers :\",even)\n",
    "print(\"Number of odd numbers :\",odd)"
   ]
  },
  {
   "cell_type": "code",
   "execution_count": null,
   "id": "1bed216f",
   "metadata": {},
   "outputs": [],
   "source": []
  }
 ],
 "metadata": {
  "kernelspec": {
   "display_name": "Python 3",
   "language": "python",
   "name": "python3"
  },
  "language_info": {
   "codemirror_mode": {
    "name": "ipython",
    "version": 3
   },
   "file_extension": ".py",
   "mimetype": "text/x-python",
   "name": "python",
   "nbconvert_exporter": "python",
   "pygments_lexer": "ipython3",
   "version": "3.8.8"
  }
 },
 "nbformat": 4,
 "nbformat_minor": 5
}
